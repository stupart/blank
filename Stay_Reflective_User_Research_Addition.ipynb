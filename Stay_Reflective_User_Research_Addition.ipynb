{
  "cells": [
    {
      "cell_type": "markdown",
      "metadata": {
        "id": "8Rdfim5zoek_"
      },
      "source": [
        "## Quick reflection prototype (08-03-24)"
      ]
    },
    {
      "cell_type": "markdown",
      "metadata": {
        "id": "Ikq4VtU9pBti"
      },
      "source": [
        "#Installs"
      ]
    },
    {
      "cell_type": "code",
      "execution_count": null,
      "metadata": {
        "colab": {
          "base_uri": "https://localhost:8080/"
        },
        "id": "0Mo8maTcpCrZ",
        "outputId": "57ef6987-20f7-4309-c492-daed653fa63c"
      },
      "outputs": [
        {
          "name": "stdout",
          "output_type": "stream",
          "text": [
            "Requirement already satisfied: openai in /usr/local/lib/python3.10/dist-packages (1.38.0)\n",
            "Requirement already satisfied: anyio<5,>=3.5.0 in /usr/local/lib/python3.10/dist-packages (from openai) (3.7.1)\n",
            "Requirement already satisfied: distro<2,>=1.7.0 in /usr/lib/python3/dist-packages (from openai) (1.7.0)\n",
            "Requirement already satisfied: httpx<1,>=0.23.0 in /usr/local/lib/python3.10/dist-packages (from openai) (0.27.0)\n",
            "Requirement already satisfied: pydantic<3,>=1.9.0 in /usr/local/lib/python3.10/dist-packages (from openai) (2.8.2)\n",
            "Requirement already satisfied: sniffio in /usr/local/lib/python3.10/dist-packages (from openai) (1.3.1)\n",
            "Requirement already satisfied: tqdm>4 in /usr/local/lib/python3.10/dist-packages (from openai) (4.66.4)\n",
            "Requirement already satisfied: typing-extensions<5,>=4.7 in /usr/local/lib/python3.10/dist-packages (from openai) (4.12.2)\n",
            "Requirement already satisfied: idna>=2.8 in /usr/local/lib/python3.10/dist-packages (from anyio<5,>=3.5.0->openai) (3.7)\n",
            "Requirement already satisfied: exceptiongroup in /usr/local/lib/python3.10/dist-packages (from anyio<5,>=3.5.0->openai) (1.2.2)\n",
            "Requirement already satisfied: certifi in /usr/local/lib/python3.10/dist-packages (from httpx<1,>=0.23.0->openai) (2024.7.4)\n",
            "Requirement already satisfied: httpcore==1.* in /usr/local/lib/python3.10/dist-packages (from httpx<1,>=0.23.0->openai) (1.0.5)\n",
            "Requirement already satisfied: h11<0.15,>=0.13 in /usr/local/lib/python3.10/dist-packages (from httpcore==1.*->httpx<1,>=0.23.0->openai) (0.14.0)\n",
            "Requirement already satisfied: annotated-types>=0.4.0 in /usr/local/lib/python3.10/dist-packages (from pydantic<3,>=1.9.0->openai) (0.7.0)\n",
            "Requirement already satisfied: pydantic-core==2.20.1 in /usr/local/lib/python3.10/dist-packages (from pydantic<3,>=1.9.0->openai) (2.20.1)\n",
            "Requirement already satisfied: openai in /usr/local/lib/python3.10/dist-packages (1.38.0)\n",
            "Requirement already satisfied: anyio<5,>=3.5.0 in /usr/local/lib/python3.10/dist-packages (from openai) (3.7.1)\n",
            "Requirement already satisfied: distro<2,>=1.7.0 in /usr/lib/python3/dist-packages (from openai) (1.7.0)\n",
            "Requirement already satisfied: httpx<1,>=0.23.0 in /usr/local/lib/python3.10/dist-packages (from openai) (0.27.0)\n",
            "Requirement already satisfied: pydantic<3,>=1.9.0 in /usr/local/lib/python3.10/dist-packages (from openai) (2.8.2)\n",
            "Requirement already satisfied: sniffio in /usr/local/lib/python3.10/dist-packages (from openai) (1.3.1)\n",
            "Requirement already satisfied: tqdm>4 in /usr/local/lib/python3.10/dist-packages (from openai) (4.66.4)\n",
            "Requirement already satisfied: typing-extensions<5,>=4.7 in /usr/local/lib/python3.10/dist-packages (from openai) (4.12.2)\n",
            "Requirement already satisfied: idna>=2.8 in /usr/local/lib/python3.10/dist-packages (from anyio<5,>=3.5.0->openai) (3.7)\n",
            "Requirement already satisfied: exceptiongroup in /usr/local/lib/python3.10/dist-packages (from anyio<5,>=3.5.0->openai) (1.2.2)\n",
            "Requirement already satisfied: certifi in /usr/local/lib/python3.10/dist-packages (from httpx<1,>=0.23.0->openai) (2024.7.4)\n",
            "Requirement already satisfied: httpcore==1.* in /usr/local/lib/python3.10/dist-packages (from httpx<1,>=0.23.0->openai) (1.0.5)\n",
            "Requirement already satisfied: h11<0.15,>=0.13 in /usr/local/lib/python3.10/dist-packages (from httpcore==1.*->httpx<1,>=0.23.0->openai) (0.14.0)\n",
            "Requirement already satisfied: annotated-types>=0.4.0 in /usr/local/lib/python3.10/dist-packages (from pydantic<3,>=1.9.0->openai) (0.7.0)\n",
            "Requirement already satisfied: pydantic-core==2.20.1 in /usr/local/lib/python3.10/dist-packages (from pydantic<3,>=1.9.0->openai) (2.20.1)\n"
          ]
        }
      ],
      "source": [
        "#installs\n",
        "!pip install openai\n",
        "!pip install --upgrade openai"
      ]
    },
    {
      "cell_type": "markdown",
      "metadata": {
        "id": "7JdjpI_7qiSc"
      },
      "source": [
        "#Set User Reserach Goal"
      ]
    },
    {
      "cell_type": "code",
      "execution_count": null,
      "metadata": {
        "cellView": "form",
        "id": "oHFRIBkUpygA"
      },
      "outputs": [],
      "source": [
        "\n",
        "user_research_focus = \"Quality of the reflection questions.\" # @param {type:\"string\"}\n"
      ]
    },
    {
      "cell_type": "markdown",
      "metadata": {
        "id": "5JcQQwcSpFaK"
      },
      "source": [
        "#Main Protoype"
      ]
    },
    {
      "cell_type": "code",
      "execution_count": null,
      "metadata": {
        "colab": {
          "base_uri": "https://localhost:8080/"
        },
        "id": "o0oxIEghqXg8",
        "outputId": "7f69b9e5-d0f2-40da-bb03-2912e83eb2d9"
      },
      "outputs": [
        {
          "name": "stdout",
          "output_type": "stream",
          "text": [
            "Please enter your initial reflection: I’m thinking about where I should move when my lease is up in September. I think that I want to be in venice as there are a lot of creative tech people but unsure if  I should go home and save money first. I have one client at home but can still work with them remote. I think there’s potential for more clients and more exciting projects in venice but rent is expensive. I have a year of savings I could use even if I don’t make any more money but  spending that is not ideal obviously.\n",
            "\n",
            "Reflection Question 1: What are the most important factors for you in choosing a new place to live, and how do Venice and your hometown compare in those areas?\n",
            "Your response: Sunny weather is nice, the people and conversations I can have and new things to learn, and well as friends. Three of my best friends are currently living in la. But also cost is important because otherwise it is not possible.\n",
            "\n",
            "Reflection Question 2: How do you envision your personal and professional life evolving in the next year if you move to Venice versus staying in your hometown?\n",
            "Your response: I think I will just grind on improving existing hard skills if I go back to my hometown. I think that I will see more new ideas and learn about skills that I didn't know I needed.\n",
            "\n",
            "Reflection Question 3: What are the potential risks and rewards of moving to Venice, and how do they align with your long-term goals?\n",
            "Your response: Risk is I spend all my money and have to live extra frugally. Potential is that I get more clients and work on cool projects with other creative people and eventaully my business partner can move there too and we get a cool office and hire some people to create a great team.\n",
            "\n",
            "User Research Question: How helpful did you find the reflection questions in clarifying your thoughts and making a decision about your next move?\n",
            "Your response: I think they were helpful but perhaps they could have drilled deeper on the same topic based on my response to the previous question vs being seperate.\n",
            "\n",
            "Thank you for helping us create a better reflection experience.\n"
          ]
        }
      ],
      "source": [
        "import os\n",
        "import openai\n",
        "import json\n",
        "from IPython.display import display, HTML\n",
        "import time\n",
        "\n",
        "# Initialize OpenAI API\n",
        "client = openai.OpenAI(api_key='sk-x')\n",
        "\n",
        "# Global variables\n",
        "reflection_questions = {}\n",
        "user_research_feedback = \"\"\n",
        "\n",
        "# Aesthetics for printing conversations\n",
        "def pretty_print_conversation(messages, start_index=0):\n",
        "    formatted_message = \"\"\n",
        "    role_to_color = {\n",
        "        \"system\": \"#4DD8FF\",\n",
        "        \"assistant\": \"#5B61FF\",\n",
        "        \"tool\": \"#FF87AB\",\n",
        "    }\n",
        "    font_size = \"16px\"\n",
        "    font_weight = \"500\"  # Normal font weight\n",
        "    system_font_family = \"Courier New, monospace\"\n",
        "    writer_font_family = \"Arial, sans-serif\"\n",
        "    margin_top = \"5px\"  # Top margin\n",
        "    margin_bottom = \"5px\"  # Bottom margin\n",
        "\n",
        "    for message in messages[start_index:]:\n",
        "        if not isinstance(message, dict):\n",
        "            # Skip non-dictionary messages\n",
        "            continue\n",
        "\n",
        "        if message.get(\"role\") == \"user\":\n",
        "            continue  # Skip user messages\n",
        "\n",
        "        color = role_to_color.get(message.get(\"role\"), \"black\")\n",
        "        display_role = message.get(\"role\", \"\").capitalize()\n",
        "        font_family = writer_font_family if message.get(\"role\") == \"assistant\" else system_font_family\n",
        "\n",
        "        if message.get(\"role\") == \"tool\":\n",
        "            # Special handling for tool messages\n",
        "            tool_label = f\"<span style='color: {color};'>Tool:</span>\"\n",
        "            tool_message = f\" Function ({message['name']}): {message['content']}\"\n",
        "            formatted_message += f\"<span style='font-size: {font_size}; font-family: {font_family}; font-weight: {font_weight}; margin-top: {margin_top}; margin-bottom: {margin_bottom}; display: block;'>{tool_label}{tool_message}</span><br>\"\n",
        "        else:\n",
        "            # Handling for other message types\n",
        "            formatted_message += f\"<span style='font-size: {font_size}; font-family: {font_family}; font-weight: {font_weight}; margin-top: {margin_top}; margin-bottom: {margin_bottom}; display: block;'><span style='color: {color};'>{display_role}</span>: {message['content']}</span><br>\"\n",
        "\n",
        "    display(HTML(formatted_message))\n",
        "\n",
        "\n",
        "\n",
        "def get_openai_response(conversation, tools=[]):\n",
        "    completion = client.chat.completions.create(\n",
        "        model=\"gpt-4o\",\n",
        "        messages=conversation,\n",
        "        tools=tools,\n",
        "        tool_choice=\"required\",\n",
        "        temperature=0.5,\n",
        "        max_tokens=4095\n",
        "    )\n",
        "    return completion\n",
        "\n",
        "def add_reflection_question(question):\n",
        "    global reflection_questions\n",
        "    question_number = len(reflection_questions) + 1\n",
        "    reflection_questions[f\"question_{question_number}\"] = {\"question\": question, \"answer\": \"\"}\n",
        "    return json.dumps({\"status\": \"success\", \"message\": f\"Added reflection question {question_number}\"})\n",
        "\n",
        "def add_user_research_question(question):\n",
        "    return json.dumps({\"status\": \"success\", \"message\": f\"Added user research question: {question}\"})\n",
        "\n",
        "def save_user_feedback(feedback):\n",
        "    global user_research_feedback\n",
        "    user_research_feedback = feedback\n",
        "    with open(\"user_research_feedback.txt\", \"w\") as f:\n",
        "        f.write(feedback)\n",
        "    return json.dumps({\"status\": \"success\", \"message\": \"User feedback saved\"})\n",
        "\n",
        "def interactive_chat():\n",
        "    system_prompt = \"\"\"You are an expert AI reflection app. Your goal is to generate three reflection questions following the principles of the reflective practitioner. This is the user input you are generating reflection questions for: {initial_user_input}\"\"\"\n",
        "\n",
        "    conversation = [\n",
        "        {\"role\": \"system\", \"content\": system_prompt},\n",
        "    ]\n",
        "\n",
        "    tools = [\n",
        "        {\n",
        "            \"type\": \"function\",\n",
        "            \"function\": {\n",
        "                \"name\": \"add_reflection_question\",\n",
        "                \"description\": \"Add a reflection question\",\n",
        "                \"parameters\": {\n",
        "                    \"type\": \"object\",\n",
        "                    \"properties\": {\n",
        "                        \"question\": {\n",
        "                            \"type\": \"string\",\n",
        "                            \"description\": \"The reflection question to add\"\n",
        "                        }\n",
        "                    },\n",
        "                    \"required\": [\"question\"]\n",
        "                }\n",
        "            }\n",
        "        },\n",
        "        {\n",
        "            \"type\": \"function\",\n",
        "            \"function\": {\n",
        "                \"name\": \"add_user_research_question\",\n",
        "                \"description\": \"Add a user research question about the reflection app experience\",\n",
        "                \"parameters\": {\n",
        "                    \"type\": \"object\",\n",
        "                    \"properties\": {\n",
        "                        \"question\": {\n",
        "                            \"type\": \"string\",\n",
        "                            \"description\": \"The user research question to add\"\n",
        "                        }\n",
        "                    },\n",
        "                    \"required\": [\"question\"]\n",
        "                }\n",
        "            }\n",
        "        }\n",
        "    ]\n",
        "\n",
        "    # Get initial user input\n",
        "    initial_user_input = input(\"Please enter your initial reflection: \")\n",
        "    conversation[0][\"content\"] = conversation[0][\"content\"].format(initial_user_input=initial_user_input)\n",
        "\n",
        "    # Generate reflection questions\n",
        "    while len(reflection_questions) < 3:\n",
        "        response = get_openai_response(conversation, tools)\n",
        "        for tool_call in response.choices[0].message.tool_calls:\n",
        "            if tool_call.function.name == \"add_reflection_question\":\n",
        "                function_args = json.loads(tool_call.function.arguments)\n",
        "                add_reflection_question(function_args[\"question\"])\n",
        "\n",
        "    # Get user responses to reflection questions\n",
        "    for i, (key, value) in enumerate(reflection_questions.items(), 1):\n",
        "        print(f\"\\nReflection Question {i}: {value['question']}\")\n",
        "        answer = input(\"Your response: \")\n",
        "        reflection_questions[key][\"answer\"] = answer\n",
        "\n",
        "    # Prepare user research system prompt\n",
        "    user_research_prompt = f\"\"\"You are doing user research for a reflection app.\n",
        "\n",
        "This was the original reflection: {initial_user_input}\n",
        "\n",
        "These were the reflection questions and answers:\n",
        "reflection question 1: {reflection_questions['question_1']['question']}\n",
        "reflection answer 1: {reflection_questions['question_1']['answer']}\n",
        "\n",
        "reflection question 2: {reflection_questions['question_2']['question']}\n",
        "reflection answer 2: {reflection_questions['question_2']['answer']}\n",
        "\n",
        "reflection question 3: {reflection_questions['question_3']['question']}\n",
        "reflection answer 3: {reflection_questions['question_3']['answer']}\n",
        "\n",
        "Your task is to create another reflection question, but this one is to gather user research about their experience using the reflection app.\n",
        "\n",
        "Focus on {user_research_focus}.\n",
        "\n",
        "Use your \"add_user_research_question\" tool to ask the question.\n",
        "\"\"\"\n",
        "\n",
        "    conversation = [\n",
        "        {\"role\": \"system\", \"content\": user_research_prompt},\n",
        "    ]\n",
        "\n",
        "    # Generate user research question\n",
        "    response = get_openai_response(conversation, tools)\n",
        "    user_research_question = \"\"\n",
        "    for tool_call in response.choices[0].message.tool_calls:\n",
        "        if tool_call.function.name == \"add_user_research_question\":\n",
        "            function_args = json.loads(tool_call.function.arguments)\n",
        "            user_research_question = function_args[\"question\"]\n",
        "\n",
        "    # Get user feedback\n",
        "    print(f\"\\nUser Research Question: {user_research_question}\")\n",
        "    user_feedback = input(\"Your response: \")\n",
        "    save_user_feedback(user_feedback)\n",
        "\n",
        "    print(\"\\nThank you for helping us create a better reflection experience.\")\n",
        "\n",
        "# Start the interactive chat\n",
        "interactive_chat()"
      ]
    }
  ],
  "metadata": {
    "colab": {
      "provenance": []
    },
    "kernelspec": {
      "display_name": "Python 3",
      "name": "python3"
    },
    "language_info": {
      "name": "python"
    }
  },
  "nbformat": 4,
  "nbformat_minor": 0
}
